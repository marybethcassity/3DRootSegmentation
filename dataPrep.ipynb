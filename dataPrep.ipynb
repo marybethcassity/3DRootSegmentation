{
 "cells": [
  {
   "cell_type": "code",
   "execution_count": null,
   "metadata": {
    "id": "cI_utHMlUyzc"
   },
   "outputs": [],
   "source": [
    "import os, glob\n",
    "import numpy as np\n",
    "import matplotlib.pyplot as plt\n",
    "import cv2\n",
    "import json\n",
    "from pycocotools.coco import COCO\n",
    "import random\n",
    "from PIL import Image\n",
    "import re\n",
    "\n",
    "%matplotlib inline"
   ]
  },
  {
   "cell_type": "markdown",
   "metadata": {
    "id": "_Xl2rTJwhss2"
   },
   "source": [
    "# Slicing and Saving"
   ]
  },
  {
   "cell_type": "code",
   "execution_count": null,
   "metadata": {},
   "outputs": [],
   "source": [
    "#load mask\n",
    "cocoFile = r\"\" #path to json\n",
    "coco = COCO(cocoFile)"
   ]
  },
  {
   "cell_type": "code",
   "execution_count": null,
   "metadata": {},
   "outputs": [],
   "source": [
    "numbers = re.compile(r'(\\d+)')\n",
    "\n",
    "def numericalSort(value):\n",
    "    parts = numbers.split(value)\n",
    "    parts[1::2] = map(int, parts[1::2])\n",
    "    return parts"
   ]
  },
  {
   "cell_type": "code",
   "execution_count": null,
   "metadata": {
    "scrolled": true
   },
   "outputs": [],
   "source": [
    "#load ct scan\n",
    "imagePath = r\"\" #path to images \n",
    "imageStack = []\n",
    "\n",
    "jsonPath = cocoFile\n",
    "maskStack = []\n",
    "\n",
    "with open(jsonPath) as jsonFile:\n",
    "    cocoAnns = json.load(jsonFile)\n",
    "jsonFile.close()\n",
    "\n",
    "images = cocoAnns['images']\n",
    "annotations = cocoAnns['annotations']\n",
    "\n",
    "imageList = [[None]*2 for _ in range(len(images))]\n",
    "for im in range(len(images)):\n",
    "    fileName = images[im]['file_name']\n",
    "    index = images[im]['id']\n",
    "    imageList[im][0] = fileName\n",
    "    imageList[im][1] = index\n",
    "    \n",
    "imageList = np.array(imageList)\n",
    "\n",
    "for imPath in sorted(glob.glob(imagePath + '/*.png'), key = numericalSort):\n",
    "   \n",
    "    basename = os.path.basename(imPath)\n",
    "    image = cv2.imread(imPath, cv2.IMREAD_GRAYSCALE)\n",
    "    imageStack.append(image)\n",
    "    \n",
    "    if(np.where(imageList[:,0]==basename)[0].size > 0):\n",
    "        z = np.where(imageList[:,0]==basename)[0][0]\n",
    "        imId= int(imageList[z,1])\n",
    "    \n",
    "        anns_ids = coco.getAnnIds(imgIds=imId, catIds=[], iscrowd=None)\n",
    "        if not(bool(anns_ids)):\n",
    "            mask = np.zeros([920,920])\n",
    "        else:    \n",
    "            mask = np.zeros([920,920])\n",
    "            anns = coco.loadAnns(anns_ids)\n",
    "            for i in range(len(anns)):\n",
    "                mask += coco.annToMask(anns[i])\n",
    "            \n",
    "        maskStack.append(mask)\n",
    "        \n",
    "    else:\n",
    "        mask = np.zeros([920,920])\n",
    "        maskStack.append(mask)\n",
    "        \n",
    "imageStack = np.array(imageStack)\n",
    "maskStack = np.array(maskStack)\n",
    "maskStack[maskStack>0] = 1\n",
    "\n",
    "imageStack = imageStack.transpose(1,2,0)\n",
    "maskStack = maskStack.transpose(1,2,0)\n",
    "print('data shape:', np.array(imageStack).shape)\n",
    "print('mask shape:', np.array(maskStack).shape)"
   ]
  },
  {
   "cell_type": "code",
   "execution_count": null,
   "metadata": {
    "id": "EcdKbY8VXxJ6"
   },
   "outputs": [],
   "source": [
    "# Choosing slicing directions for the 3D images (CT images)\n",
    "SLICE_X = True\n",
    "SLICE_Y = True\n",
    "SLICE_Z = True"
   ]
  },
  {
   "cell_type": "code",
   "execution_count": null,
   "metadata": {
    "id": "NhsyPwVDX0ex"
   },
   "outputs": [],
   "source": [
    "SLICE_DECIMATE_IDENTIFIER = 3"
   ]
  },
  {
   "cell_type": "code",
   "execution_count": null,
   "metadata": {
    "colab": {
     "base_uri": "https://localhost:8080/"
    },
    "id": "FRpd8y5MX3Cm",
    "outputId": "d73f74ab-15e6-403d-a93c-2b26a0c13c8f",
    "scrolled": true
   },
   "outputs": [],
   "source": [
    "#check max min pixel values of the ct scan\n",
    "np.min(imageStack), np.max(imageStack), imageStack.shape, type(imageStack)\n",
    "np.min(maskStack), np.max(maskStack), imageStack.shape, type(maskStack)"
   ]
  },
  {
   "cell_type": "code",
   "execution_count": null,
   "metadata": {
    "colab": {
     "base_uri": "https://localhost:8080/"
    },
    "id": "s47y3R3GX7wK",
    "outputId": "2d44da57-d661-4f0e-8857-d6824b3e51cc"
   },
   "outputs": [],
   "source": [
    "#check max min pixel values of the mask\n",
    "np.min(maskStack), np.max(maskStack), imageStack.shape, type(maskStack)"
   ]
  },
  {
   "cell_type": "code",
   "execution_count": null,
   "metadata": {
    "colab": {
     "base_uri": "https://localhost:8080/",
     "height": 269
    },
    "id": "ra0mnmo7YARY",
    "outputId": "3fe430c5-bf77-449d-8920-647ebbcd98db"
   },
   "outputs": [],
   "source": [
    "# Showing image slice\n",
    "imgSlice = imageStack[:,:,1900]\n",
    "plt.imshow(imgSlice, cmap='gray')\n",
    "plt.figure(figsize=(10, 10))\n",
    "plt.show()"
   ]
  },
  {
   "cell_type": "code",
   "execution_count": null,
   "metadata": {},
   "outputs": [],
   "source": [
    "# Showing mask slice\n",
    "maskSlice = maskStack[:,:,1900]\n",
    "plt.imshow(maskSlice, cmap='gray')\n",
    "plt.figure(figsize=(10, 10))\n",
    "plt.show()"
   ]
  },
  {
   "cell_type": "code",
   "execution_count": null,
   "metadata": {
    "id": "edS6ZDY4YSGN"
   },
   "outputs": [],
   "source": [
    "# Saving volume slices to file\n",
    "def saveSlice (img, fname, path):\n",
    "    #img = np.uint8(img * 255) #comment out this line for images \n",
    "    fout = os.path.join(path, f'{fname}.png')\n",
    "    cv2.imwrite(fout, img)\n",
    "    print(f'[+] Slice saved: {fout}', end='\\r')"
   ]
  },
  {
   "cell_type": "code",
   "execution_count": null,
   "metadata": {
    "id": "b8hmnUWUYdx-"
   },
   "outputs": [],
   "source": [
    "# Slicing image in all directions and save\n",
    "def sliceAndSaveVolumeImage(vol, fname, path):\n",
    "    (dimx, dimy, dimz) = vol.shape\n",
    "    print(dimx, dimy, dimz)\n",
    "    cnt = 0\n",
    "    if SLICE_X:\n",
    "        cnt += dimx\n",
    "        print('Slicing X: ')\n",
    "        for i in range(dimx):\n",
    "            saveSlice(vol[i,:,:], fname+f'_slice{str(i).zfill(SLICE_DECIMATE_IDENTIFIER)}_x', path)\n",
    "            \n",
    "    if SLICE_Y:\n",
    "        cnt += dimy\n",
    "        print('Slicing Y: ')\n",
    "        for i in range(dimy):\n",
    "            saveSlice(vol[:,i,:], fname+f'_slice{str(i).zfill(SLICE_DECIMATE_IDENTIFIER)}_y', path)\n",
    "            \n",
    "    if SLICE_Z:\n",
    "        cnt += dimz\n",
    "        print('Slicing Z: ')\n",
    "        for i in range(dimz):\n",
    "            saveSlice(vol[:,:,i], fname+f'_slice{str(i).zfill(SLICE_DECIMATE_IDENTIFIER)}_z', path)\n",
    "    return cnt\n"
   ]
  },
  {
   "cell_type": "code",
   "execution_count": null,
   "metadata": {},
   "outputs": [],
   "source": [
    "#slice and save the images\n",
    "path = r\"\" #path to sliced images\n",
    "sliceAndSaveVolumeImage(imageStack, \"\", path) #scan name "
   ]
  },
  {
   "cell_type": "code",
   "execution_count": null,
   "metadata": {},
   "outputs": [],
   "source": [
    "#slice and save the masks\n",
    "path = r\"\" #path to sliced masks \n",
    "sliceAndSaveVolumeImage(maskStack, \"\", path) #scan name"
   ]
  },
  {
   "cell_type": "markdown",
   "metadata": {},
   "source": [
    "# Make json"
   ]
  },
  {
   "cell_type": "code",
   "execution_count": null,
   "metadata": {},
   "outputs": [],
   "source": [
    "CATEGORY_TEMPLATE = {\n",
    "    \"id\": 1,\n",
    "    \"name\": \"person\",\n",
    "    \"supercategory\": None,\n",
    "    \"metadata\": {},\n",
    "    \"color\": \"#69db90\",\n",
    "}\n",
    "\n",
    "IMAGES_TEMPLATE = {\n",
    "    \"id\": 0,\n",
    "    \"width\": 530,\n",
    "    \"height\": 301,\n",
    "    \"file_name\": \"\",\n",
    "    \"path\": \"\",\n",
    "    \"license\": None,\n",
    "    \"fickr_url\": None,\n",
    "    \"coco_url\": None,\n",
    "    \"date_captured\": None,\n",
    "    \"metadata\": {},\n",
    "}\n",
    "\n",
    "ANNOTATIONS_TEMPLATE = {\n",
    "    \"id\": 1,\n",
    "    \"image_id\": 0,\n",
    "    \"category_id\": 1,\n",
    "    \"width\": 530,\n",
    "    \"height\": 301,\n",
    "    \"area\": 59767,\n",
    "    \"segmentation\": [[221, 7, 220, 8, 215, 8]],\n",
    "    \"bbox\": [150, 7, 253, 286],\n",
    "    \"metadata\": {},\n",
    "    \"color\": \"#bc07ae\",\n",
    "    \"iscrowd\": 0,\n",
    "}"
   ]
  },
  {
   "cell_type": "code",
   "execution_count": null,
   "metadata": {},
   "outputs": [],
   "source": [
    "def mask_to_contour(mask):\n",
    "    contours, _ = cv2.findContours(\n",
    "        mask, cv2.RETR_EXTERNAL, cv2.CHAIN_APPROX_NONE\n",
    "    )\n",
    "    return contours\n",
    "\n",
    "def get_random_color():\n",
    "    return [\"#\" + \"\".join([random.choice(\"ABCDEF0123456789\") for _ in range(6)])][\n",
    "        0\n",
    "    ].lower()\n",
    "\n",
    "class dotdict(dict):\n",
    "    \"\"\"dot.notation access to dictionary attributes\"\"\"\n",
    "\n",
    "    __getattr__ = dict.get\n",
    "    __setattr__ = dict.__setitem__\n",
    "    __delattr__ = dict.__delitem__\n",
    "    "
   ]
  },
  {
   "cell_type": "code",
   "execution_count": null,
   "metadata": {},
   "outputs": [],
   "source": [
    "categories = []\n",
    "\n",
    "category = dotdict(CATEGORY_TEMPLATE)\n",
    "category.id = 1\n",
    "category.name = 'root'\n",
    "category.color = get_random_color()\n",
    "\n",
    "categories += [category]\n",
    "\n",
    "annotations = []\n",
    "images = []\n",
    "path = r\"\\*.png\" #path to sliced masks\n",
    "im_num = 1\n",
    "ann_num = 1 \n",
    "\n",
    "for img in glob.glob(path):\n",
    "    im = cv2.imread(img, cv2.IMREAD_GRAYSCALE)\n",
    "    im = im.astype(np.uint8) * 255\n",
    "    \n",
    "    image = dotdict(IMAGES_TEMPLATE)\n",
    "    image.width = im.shape[1]\n",
    "    image.height = im.shape[0]\n",
    "    image.file_name = os.path.basename(img)\n",
    "    image.id = im_num\n",
    "    images += [image]\n",
    "    \n",
    "    contours = mask_to_contour(im)\n",
    "    \n",
    "    for contour in contours:\n",
    "        \n",
    "        bbox = cv2.boundingRect(contour)\n",
    "        segmentation = np.array(contour).flatten().tolist()\n",
    "        \n",
    "        \n",
    "        if (len(segmentation) == 4):\n",
    "            segmentation.append(segmentation[-2])\n",
    "            segmentation.append(segmentation[-2])\n",
    "            print(segmentation)\n",
    "        \n",
    "        if (len(segmentation) < 4):\n",
    "            segmentation.append(segmentation[-2])\n",
    "            segmentation.append(segmentation[-2])\n",
    "            segmentation.append(segmentation[-2])\n",
    "            segmentation.append(segmentation[-2])\n",
    "            print(segmentation)\n",
    "            \n",
    "        \n",
    "        annotation = dotdict(ANNOTATIONS_TEMPLATE)\n",
    "        annotation.id = ann_num\n",
    "        annotation.image_id = im_num\n",
    "        annotation.category_id = 1\n",
    "        annotation.width = bbox[2]\n",
    "        annotation.height = bbox[3]\n",
    "        annotation.area = cv2.contourArea(contour)\n",
    "        annotation.segmentation = [segmentation]\n",
    "        annotation.bbox = [bbox[0],bbox[1],bbox[2],bbox[3]]\n",
    "        annotation.color = get_random_color()\n",
    "        \n",
    "        annotations += [annotation]\n",
    "        \n",
    "        ann_num = ann_num + 1\n",
    "    \n",
    "    im_num = im_num + 1 \n",
    "    \n",
    "coco = {\"annotations\": annotations, \"categories\": categories, \"images\": images}"
   ]
  },
  {
   "cell_type": "code",
   "execution_count": null,
   "metadata": {},
   "outputs": [],
   "source": [
    "with open(r\"\", \"w\") as outfile: #path to new json file containing 3view ground truth\n",
    "    json.dump(coco, outfile)\n",
    "outfile.close()"
   ]
  },
  {
   "cell_type": "code",
   "execution_count": null,
   "metadata": {},
   "outputs": [],
   "source": [
    "#inspect to make sure everything looks okay :D\n",
    "\n",
    "coco_path = r\"\" #path to new json file containing 3view ground truth\n",
    "coco = COCO(annotation_file=coco_path)\n",
    "cat_ids = coco.getCatIds()\n",
    "\n",
    "print(f\"Number of Unique Categories: {len(cat_ids)}\")\n",
    "print(\"Category IDs:\")\n",
    "print(cat_ids)\n",
    "cats = coco.loadCats(cat_ids)\n",
    "cat_names = [cat[\"name\"] for cat in cats]\n",
    "print(\"Categories Names:\")\n",
    "print(cat_names)"
   ]
  },
  {
   "cell_type": "code",
   "execution_count": null,
   "metadata": {},
   "outputs": [],
   "source": [
    "img_ids = coco.getImgIds(catIds=1)\n",
    "print(f\"Number of Images Containing root: {len(img_ids)}\")"
   ]
  },
  {
   "cell_type": "code",
   "execution_count": null,
   "metadata": {},
   "outputs": [],
   "source": [
    "img_id = img_ids[3600] #choose image ID to view\n",
    "img_info = coco.loadImgs([img_id])[0]\n",
    "img_file_name = img_info[\"file_name\"]\n",
    "\n",
    "print(\n",
    "    f\"Image ID: {img_id}, File Name: {img_file_name}\"\n",
    ")\n",
    "\n",
    "ann_ids = coco.getAnnIds(imgIds= [img_id], catIds = [1], iscrowd=None)\n",
    "print(ann_ids)\n",
    "anns = coco.loadAnns(ann_ids)\n",
    "print(f\"Annotations for Image ID {img_id}:\")\n",
    "print(anns)"
   ]
  },
  {
   "cell_type": "code",
   "execution_count": null,
   "metadata": {},
   "outputs": [],
   "source": [
    "im_path = os.path.join(r\"\",img_file_name) #path to sliced images \n",
    "im = Image.open(im_path)\n",
    "plt.figure(figsize=(20, 20))\n",
    "plt.imshow(np.asarray(im), cmap='gray')\n",
    "coco.showAnns(anns)"
   ]
  },
  {
   "cell_type": "code",
   "execution_count": null,
   "metadata": {},
   "outputs": [],
   "source": []
  }
 ],
 "metadata": {
  "colab": {
   "authorship_tag": "ABX9TyOscy6jBPsMZdK8puQuK9gf",
   "include_colab_link": true,
   "name": "3d_image_segmentation.ipynb",
   "provenance": [],
   "toc_visible": true
  },
  "kernelspec": {
   "display_name": "Python 3 (ipykernel)",
   "language": "python",
   "name": "python3"
  },
  "language_info": {
   "codemirror_mode": {
    "name": "ipython",
    "version": 3
   },
   "file_extension": ".py",
   "mimetype": "text/x-python",
   "name": "python",
   "nbconvert_exporter": "python",
   "pygments_lexer": "ipython3",
   "version": "3.9.7"
  }
 },
 "nbformat": 4,
 "nbformat_minor": 1
}
