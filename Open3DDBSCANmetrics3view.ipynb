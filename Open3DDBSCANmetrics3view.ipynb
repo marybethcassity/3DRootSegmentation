{
 "cells": [
  {
   "cell_type": "code",
   "execution_count": 1,
   "id": "4b60ec7a",
   "metadata": {},
   "outputs": [
    {
     "name": "stdout",
     "output_type": "stream",
     "text": [
      "Jupyter environment detected. Enabling Open3D WebVisualizer.\n",
      "[Open3D INFO] WebRTC GUI backend enabled.\n",
      "[Open3D INFO] WebRTCWindowSystem: HTTP handshake server disabled.\n"
     ]
    }
   ],
   "source": [
    "import json\n",
    "import os\n",
    "import numpy as np\n",
    "from pycocotools.coco import COCO\n",
    "import open3d as o3d\n",
    "import cv2\n",
    "from sklearn.cluster import DBSCAN\n",
    "from skimage.morphology import skeletonize\n",
    "from sklearn.neighbors import NearestNeighbors\n",
    "import scipy.signal as sps\n",
    "from scipy.ndimage import gaussian_filter, binary_erosion\n",
    "\n",
    "import matplotlib.pyplot as plt\n",
    "%matplotlib inline\n",
    "\n",
    "import kneed\n",
    "from kneebow.rotor import Rotor\n",
    "\n",
    "import pandas as pd"
   ]
  },
  {
   "cell_type": "code",
   "execution_count": 2,
   "id": "c1f11f8c",
   "metadata": {},
   "outputs": [
    {
     "name": "stdout",
     "output_type": "stream",
     "text": [
      "loading annotations into memory...\n",
      "Done (t=1.58s)\n",
      "creating index...\n",
      "index created!\n",
      "COCO category ids:\n",
      "[1]\n",
      "COCO categories: \n",
      "root\n",
      "\n",
      "num images: 3196\n",
      "num annotations: 32899\n"
     ]
    }
   ],
   "source": [
    "jsonPath = r\"E:\\RootAI\\plantannotated\\Onion1\\Onion1.json\"\n",
    "\n",
    "\n",
    "coco_annotations = COCO(annotation_file = jsonPath)\n",
    "cat_ids = coco_annotations.getCatIds()\n",
    "print('COCO category ids:')\n",
    "print(cat_ids)\n",
    "cats = coco_annotations.loadCats(cat_ids)\n",
    "names=[cat['name'] for cat in cats]\n",
    "print('COCO categories: \\n{}\\n'.format(' '.join(names)))\n",
    "image_ids = coco_annotations.getImgIds(catIds = cat_ids)\n",
    "print(\"num images:\", len(image_ids))\n",
    "\n",
    "with open(jsonPath) as jsonFile:\n",
    "    cocoAnns = json.load(jsonFile)\n",
    "jsonFile.close()\n",
    "\n",
    "images = cocoAnns['images']\n",
    "annotations = cocoAnns['annotations']\n",
    "\n",
    "print(\"num annotations:\", len(annotations))\n",
    "\n",
    "imageList = [[None]*2 for _ in range(len(images))]\n",
    "for im in range(len(images)):\n",
    "    fileName = images[im]['file_name']\n",
    "    index = images[im]['id']\n",
    "    imageList[im][0] = fileName\n",
    "    imageList[im][1] = index\n",
    "    \n",
    "imageList = np.array(imageList)"
   ]
  },
  {
   "cell_type": "code",
   "execution_count": 3,
   "id": "6925369f",
   "metadata": {},
   "outputs": [
    {
     "name": "stdout",
     "output_type": "stream",
     "text": [
      "loading annotations into memory...\n",
      "Done (t=1.03s)\n",
      "creating index...\n",
      "index created!\n",
      "COCO category ids:\n",
      "[1]\n",
      "COCO categories: \n",
      "root\n",
      "\n",
      "num images: 3497\n",
      "num annotations: 19021\n"
     ]
    }
   ],
   "source": [
    "jsonPath2 = r\"E:\\RootAI\\plantannotated\\predictions\\100\\3view\\Onion1.json\"\n",
    "\n",
    "\n",
    "coco_annotations2 = COCO(annotation_file = jsonPath2)\n",
    "cat_ids = coco_annotations2.getCatIds()\n",
    "print('COCO category ids:')\n",
    "print(cat_ids)\n",
    "cats = coco_annotations2.loadCats(cat_ids)\n",
    "names=[cat['name'] for cat in cats]\n",
    "print('COCO categories: \\n{}\\n'.format(' '.join(names)))\n",
    "image_ids = coco_annotations2.getImgIds(catIds = cat_ids)\n",
    "print(\"num images:\", len(image_ids))\n",
    "\n",
    "with open(jsonPath2) as jsonFile2:\n",
    "    cocoAnns2 = json.load(jsonFile2)\n",
    "jsonFile2.close()\n",
    "\n",
    "images = cocoAnns2['images']\n",
    "annotations = cocoAnns2['annotations']\n",
    "\n",
    "print(\"num annotations:\", len(annotations))\n",
    "\n",
    "imageList2 = [[None]*2 for _ in range(len(images))]\n",
    "for im in range(len(images)):\n",
    "    fileName = images[im]['file_name']\n",
    "    index = images[im]['id']\n",
    "    imageList2[im][0] = fileName\n",
    "    imageList2[im][1] = index\n",
    "    \n",
    "imageList2 = np.array(imageList2)\n",
    "imageNames2 = imageList2[:,0]"
   ]
  },
  {
   "cell_type": "code",
   "execution_count": 4,
   "id": "d17a9224",
   "metadata": {},
   "outputs": [],
   "source": [
    "def getIOU(mask_gt, mask_pred):\n",
    "    intersection = np.logical_and(mask_gt,mask_pred)\n",
    "    union = np.logical_or(mask_gt,mask_pred)\n",
    "    iou = np.sum(intersection)/np.sum(union)\n",
    "    return iou"
   ]
  },
  {
   "cell_type": "code",
   "execution_count": 5,
   "id": "c50c566e",
   "metadata": {},
   "outputs": [],
   "source": [
    "def get_pr_re(mask_gt, mask_pred):\n",
    "    \n",
    "    mask_gt[mask_gt==1] = 2\n",
    "    \n",
    "    added = np.add(mask_gt, mask_pred)\n",
    "    \n",
    "    tn = np.sum(added == 0)\n",
    "    tp = np.sum(added == 3)\n",
    "    fn = np.sum(added == 2)\n",
    "    fp = np.sum(added == 1)\n",
    "    \n",
    "    return tn, tp, fn, fp"
   ]
  },
  {
   "cell_type": "code",
   "execution_count": 6,
   "id": "98b5b218",
   "metadata": {},
   "outputs": [],
   "source": [
    "def get_np(inList, coco_anns):\n",
    "\n",
    "    point_cloud_x = []\n",
    "    point_cloud_y = []\n",
    "    point_cloud_z = []\n",
    "\n",
    "    imageNames = inList[:,0]\n",
    "\n",
    "    for image in imageNames:\n",
    "        #print(image)\n",
    "        name = image.split(\".\")[0]\n",
    "    \n",
    "        split = name.split(\"_\",2)\n",
    "        axis = split[2]\n",
    "        num = int(split[1][-3:])\n",
    "    \n",
    "        z = np.where(inList[:,0]==image)[0][0]\n",
    "\n",
    "        imId= int(inList[z,1])\n",
    "        anns_ids = coco_anns.getAnnIds(imgIds=imId, catIds=[], iscrowd=None)\n",
    "        anns = coco_anns.loadAnns(anns_ids)\n",
    "        \n",
    "        if (axis == 'x'):\n",
    "            mask = np.full((920,1998),False)\n",
    "        if (axis == 'y'):\n",
    "            mask = np.full((920,1998),False)\n",
    "        if (axis == 'z'):\n",
    "            mask = np.full((920,920),False)\n",
    "       \n",
    "    \n",
    "        if(len(anns)>0):\n",
    "    \n",
    "            mask = coco_anns.annToMask(anns[0])\n",
    "        \n",
    "            for i in range(1,len(anns)):\n",
    "                mask += coco_anns.annToMask(anns[i])\n",
    "    \n",
    "    \n",
    "        if (axis == 'x'):\n",
    "            point_cloud_x.append(mask)\n",
    "        if (axis == 'y'):\n",
    "            point_cloud_y.append(mask)       \n",
    "        if (axis == 'z'):\n",
    "            point_cloud_z.append(mask) \n",
    "  \n",
    "    scan_x = np.array(point_cloud_x)\n",
    "    scan_y = np.array(point_cloud_y) \n",
    "    scan_z = np.array(point_cloud_z) \n",
    "    \n",
    "    scan_y = np.fliplr(scan_y)\n",
    "    scan_y = np.rot90(scan_y)\n",
    "    \n",
    "    scan_z = np.swapaxes(scan_z,0,2)\n",
    "    scan_z = np.fliplr(scan_z)\n",
    "    scan_z = np.rot90(scan_z)\n",
    "    \n",
    "    return scan_x, scan_y, scan_z"
   ]
  },
  {
   "cell_type": "code",
   "execution_count": 7,
   "id": "e005a137",
   "metadata": {},
   "outputs": [],
   "source": [
    "scan_x_gt, scan_y_gt, scan_z_gt = get_np(imageList, coco_annotations)\n",
    "scan_x_pred, scan_y_pred, scan_z_pred = get_np(imageList2, coco_annotations2)"
   ]
  },
  {
   "cell_type": "code",
   "execution_count": 9,
   "id": "c9426535",
   "metadata": {},
   "outputs": [],
   "source": [
    "result_xy = np.add(scan_x_pred, scan_y_pred)\n",
    "result_xz = np.add(scan_x_pred, scan_z_pred)\n",
    "result_yz = np.add(scan_y_pred, scan_z_pred)\n",
    "result_xyz = np.add(result_xy, scan_z_pred)\n",
    "\n",
    "result_xy = result_xy.clip(min = 0 , max = 1)\n",
    "result_xz = result_xz.clip(min = 0 , max = 1)\n",
    "result_yz = result_yz.clip(min = 0 , max = 1)\n",
    "result_xyz = result_xyz.clip(min = 0 , max = 1)\n",
    "\n",
    "result_x = scan_x_pred.clip(min = 0 , max = 1)\n",
    "result_y = scan_y_pred.clip(min = 0 , max = 1)\n",
    "result_z = scan_z_pred.clip(min = 0 , max = 1)\n",
    "\n",
    "gt_xy = np.add(scan_x_gt, scan_y_gt)\n",
    "gt_xyz = np.add(gt_xy, scan_z_gt)\n",
    "gt_xyz = gt_xyz.clip(min = 0 , max = 1)"
   ]
  },
  {
   "cell_type": "code",
   "execution_count": 12,
   "id": "5049f4ec",
   "metadata": {},
   "outputs": [
    {
     "data": {
      "text/plain": [
       "PointCloud with 67918795 points."
      ]
     },
     "execution_count": 12,
     "metadata": {},
     "output_type": "execute_result"
    }
   ],
   "source": [
    "#check point clouds if you want\n",
    "indeces = np.nonzero(scan_x_pred)\n",
    "indeces = np.asarray(indeces)\n",
    "indeces = np.swapaxes(indeces, 0, 1)\n",
    "\n",
    "indeces2 = np.nonzero(scan_y_pred)\n",
    "indeces2 = np.asarray(indeces2)\n",
    "indeces2 = np.swapaxes(indeces2, 0, 1)\n",
    "\n",
    "indeces3 = np.nonzero(scan_z_pred)\n",
    "indeces3 = np.asarray(indeces3)\n",
    "indeces3 = np.swapaxes(indeces3, 0, 1)\n",
    "\n",
    "pcd = o3d.geometry.PointCloud()\n",
    "pcd.points = o3d.utility.Vector3dVector(indeces)\n",
    "pcd.paint_uniform_color([1, 0.706, 0])\n",
    "\n",
    "pcd2 = o3d.geometry.PointCloud()\n",
    "pcd2.points = o3d.utility.Vector3dVector(indeces2)\n",
    "pcd2.paint_uniform_color([0.1, 0.1, 0.7])\n",
    "\n",
    "pcd3 = o3d.geometry.PointCloud()\n",
    "pcd3.points = o3d.utility.Vector3dVector(indeces3)\n",
    "pcd3.paint_uniform_color([0.1, 0.9, 0.1])"
   ]
  },
  {
   "cell_type": "code",
   "execution_count": 13,
   "id": "00616ec0",
   "metadata": {},
   "outputs": [],
   "source": [
    "o3d.visualization.draw_geometries([pcd,pcd2,pcd3])"
   ]
  },
  {
   "cell_type": "code",
   "execution_count": 14,
   "id": "e28ae3f2",
   "metadata": {},
   "outputs": [],
   "source": [
    "cut_top = 288\n",
    "cut_bottom = 480\n",
    "\n",
    "z_total = result_xyz.shape[2]\n",
    "\n",
    "result_xyz_cut = result_xyz[:,:,cut_bottom:z_total-cut_top]\n",
    "\n",
    "indeces = np.nonzero(result_xyz_cut)\n",
    "indeces = np.asarray(indeces)\n",
    "indeces = np.swapaxes(indeces, 0, 1)\n",
    "\n",
    "pcd = o3d.geometry.PointCloud()\n",
    "pcd.points = o3d.utility.Vector3dVector(indeces)\n",
    "pcd.paint_uniform_color([1, 0.706, 0])\n",
    "\n",
    "o3d.visualization.draw_geometries([pcd])"
   ]
  },
  {
   "cell_type": "code",
   "execution_count": 15,
   "id": "f5ad34da",
   "metadata": {},
   "outputs": [],
   "source": [
    "def mask_to_contour(mask):\n",
    "    contours, _ = cv2.findContours(\n",
    "        mask, cv2.RETR_EXTERNAL, cv2.CHAIN_APPROX_NONE\n",
    "    )\n",
    "    return contours"
   ]
  },
  {
   "cell_type": "code",
   "execution_count": 16,
   "id": "18c80e73",
   "metadata": {},
   "outputs": [],
   "source": [
    "def moving_average(x, w):\n",
    "    return np.convolve(x, np.ones(w), 'valid') / w"
   ]
  },
  {
   "cell_type": "code",
   "execution_count": 17,
   "id": "9c0586b9",
   "metadata": {},
   "outputs": [],
   "source": [
    "def array2pc(array):\n",
    "    indeces = np.nonzero(array)\n",
    "    indeces = np.asarray(indeces)\n",
    "    indeces = np.swapaxes(indeces, 0, 1)\n",
    "    outpcd = o3d.geometry.PointCloud()\n",
    "    outpcd.points = o3d.utility.Vector3dVector(indeces) \n",
    "    \n",
    "    return outpcd"
   ]
  },
  {
   "cell_type": "code",
   "execution_count": 18,
   "id": "c285bf5a",
   "metadata": {},
   "outputs": [],
   "source": [
    "def pc2array(pointcloud, array):\n",
    "    out = np.zeros(array.shape,dtype=np.uint8)\n",
    "    xyz = np.asarray(pointcloud.points).astype(int)\n",
    "    \n",
    "    for pt in xyz:\n",
    "        out[int(pt[0]),int(pt[1]),int(pt[2])] = 1\n",
    "    \n",
    "    return out"
   ]
  },
  {
   "cell_type": "code",
   "execution_count": 19,
   "id": "5aac1200",
   "metadata": {},
   "outputs": [],
   "source": [
    "def dbscan(pointcloud,dist,neighbors,array):\n",
    "    \n",
    "    out = np.zeros(array.shape,dtype=np.uint8)\n",
    "    \n",
    "    with o3d.utility.VerbosityContextManager(\n",
    "        o3d.utility.VerbosityLevel.Debug) as cm:\n",
    "        labels = np.array(\n",
    "        pointcloud.cluster_dbscan(eps=eps, min_points=6, print_progress=True))\n",
    "\n",
    "    xyz = np.asarray(downpcd.points).astype(int)\n",
    "    \n",
    "    unique, counts = np.unique(labels, return_counts = True)\n",
    "    sorted_counts = np.sort(counts, axis = 0)\n",
    "    i = np.arange(len(sorted_counts))\n",
    "    knee = kneed.KneeLocator(i, sorted_counts, curve='convex', direction='increasing', online = True)\n",
    "    indeces = np.where(counts > sorted_counts[knee.knee])\n",
    "    selected_labels = unique[indeces]\n",
    "    selected_labels = np.array(selected_labels)  \n",
    "    selected_labels = selected_labels[selected_labels != -1]\n",
    "    \n",
    "    for i in range(len(labels)):\n",
    "        label = labels[i]\n",
    "        for j in range(len(selected_labels)):\n",
    "            if(label == selected_labels[j]):\n",
    "                down_indx = xyz[i]\n",
    "                out[down_indx[0],down_indx[1],down_indx[2]] = 1\n",
    "    \n",
    "  \n",
    "    return out"
   ]
  },
  {
   "cell_type": "code",
   "execution_count": 20,
   "id": "7e8535b7",
   "metadata": {},
   "outputs": [],
   "source": [
    "def findeps(array):\n",
    "    X = np.argwhere(array)\n",
    "    neigh = NearestNeighbors(n_neighbors=6)\n",
    "    nbrs = neigh.fit(X)\n",
    "    distances, indeces = nbrs.kneighbors(X)\n",
    "    distances = np.sort(distances, axis=0)\n",
    "    distances = distances[:,1]\n",
    "    convolved = moving_average(distances,5)\n",
    "    i = np.arange(len(convolved))\n",
    "    knee = kneed.KneeLocator(i, convolved, curve='convex', direction='increasing', online = False)\n",
    "    x = distances[knee.knee]\n",
    "    \n",
    "    return x"
   ]
  },
  {
   "cell_type": "code",
   "execution_count": 21,
   "id": "ff7f332e",
   "metadata": {},
   "outputs": [],
   "source": [
    "def dilate_erode(array):\n",
    "    kernel = np.ones((5, 5), np.uint8)\n",
    "    out = np.zeros(array.shape, dtype=np.uint8)\n",
    "    \n",
    "    for i in range(array.shape[2]):\n",
    "        mask = array[:,:,i]\n",
    "        mask_dilated = cv2.dilate(mask, kernel, iterations=1)\n",
    "        mask_eroded = cv2.erode(mask_dilated, kernel, iterations=1)\n",
    "        \n",
    "        out[:,:,i] = mask_eroded\n",
    "        \n",
    "    for i in range(array.shape[0]):\n",
    "        mask = out[i,:,:]\n",
    "        mask_dilated = cv2.dilate(mask, kernel, iterations=1)\n",
    "        mask_eroded = cv2.erode(mask_dilated, kernel, iterations=1)\n",
    "        \n",
    "        out[i,:,:] = mask_eroded\n",
    "        \n",
    "    out = np.clip(out,0,1)\n",
    "    \n",
    "    return out"
   ]
  },
  {
   "cell_type": "code",
   "execution_count": 22,
   "id": "9f67d335",
   "metadata": {},
   "outputs": [],
   "source": [
    "results = [result_x,result_y,result_z,result_xy,result_xz,result_yz,result_xyz]\n",
    "combos = ['x','y','z','xy','xz','yz','xyz']"
   ]
  },
  {
   "cell_type": "code",
   "execution_count": 36,
   "id": "692ac03d",
   "metadata": {},
   "outputs": [
    {
     "name": "stdout",
     "output_type": "stream",
     "text": [
      "[Open3D DEBUG] Precompute neighbors.\n",
      "[Open3D DEBUG] Done Precompute neighbors.\n",
      "[Open3D DEBUG] Compute Clusters\n",
      "[Open3D DEBUG] Done Compute Clusters: 368\n",
      "['x', 0.8189250820597571, 0.7041595807183799, 0.7572185007380154, 0.6092933481772005]\n",
      "[Open3D DEBUG] Precompute neighbors.\n",
      "[Open3D DEBUG] Done Precompute neighbors.\n",
      "[Open3D DEBUG] Compute Clusters\n",
      "[Open3D DEBUG] Done Compute Clusters: 358\n",
      "['y', 0.7125219734183246, 0.5237457805901634, 0.6037209592268665, 0.4323784441343331]\n",
      "[Open3D DEBUG] Precompute neighbors.\n",
      "[Open3D DEBUG] Done Precompute neighbors.\n",
      "[Open3D DEBUG] Compute Clusters\n",
      "[Open3D DEBUG] Done Compute Clusters: 386\n",
      "['z', 0.8380104704288137, 0.7427500182453871, 0.7875099316568405, 0.6494980472153105]\n",
      "[Open3D DEBUG] Precompute neighbors.\n",
      "[Open3D DEBUG] Done Precompute neighbors.\n",
      "[Open3D DEBUG] Compute Clusters\n",
      "[Open3D DEBUG] Done Compute Clusters: 378\n",
      "['xy', 0.6860635472455773, 0.8478841389043632, 0.7584383812332032, 0.6108745387816801]\n",
      "[Open3D DEBUG] Precompute neighbors.\n",
      "[Open3D DEBUG] Done Precompute neighbors.\n",
      "[Open3D DEBUG] Compute Clusters\n",
      "[Open3D DEBUG] Done Compute Clusters: 418\n",
      "['xz', 0.7266584684699057, 0.8729028962123626, 0.7930952768549973, 0.6571316373576835]\n",
      "[Open3D DEBUG] Precompute neighbors.\n",
      "[Open3D DEBUG] Done Precompute neighbors.\n",
      "[Open3D DEBUG] Compute Clusters\n",
      "[Open3D DEBUG] Done Compute Clusters: 385\n",
      "['yz', 0.6988677632523287, 0.8499882651970948, 0.7670556678966606, 0.622133252835595]\n",
      "[Open3D DEBUG] Precompute neighbors.\n",
      "[Open3D DEBUG] Done Precompute neighbors.\n",
      "[Open3D DEBUG] Compute Clusters\n",
      "[Open3D DEBUG] Done Compute Clusters: 471\n",
      "['xyz', 0.6540037029778643, 0.8927263123683773, 0.7549427608463344, 0.6063518504253753]\n"
     ]
    }
   ],
   "source": [
    "cut_top = 288\n",
    "cut_bottom = 480\n",
    "\n",
    "z_total = result_xyz.shape[2]\n",
    "\n",
    "gt_xyz_cut = gt_xyz[:,:,cut_bottom:z_total-cut_top]\n",
    "\n",
    "metrics = []\n",
    "for k in range(len(results)):\n",
    "    \n",
    "    result_pred = results[k]\n",
    "    \n",
    "    result_pred = result_pred[:,:,cut_bottom:z_total-cut_top]\n",
    "    \n",
    "    result_pred_pc = array2pc(result_pred)\n",
    "    downpcd = result_pred_pc.voxel_down_sample(voxel_size=1.5)\n",
    "    downpcd_np = pc2array(downpcd, result_pred)\n",
    "    eps = findeps(downpcd_np)\n",
    "    filtered = dbscan(downpcd, eps, 6, result_pred)\n",
    "    filtered_restored = dilate_erode(filtered)\n",
    "\n",
    "    iou = getIOU(gt_xyz_cut,filtered_restored)\n",
    "    tn, tp, fn, fp = get_pr_re(gt_xyz_cut,filtered_restored)\n",
    "    \n",
    "    precision = tp / (tp + fp)\n",
    "    recall = tp / (tp + fn)\n",
    "    accuracy = (tn + tp) / (tn + tp + fn + tp)\n",
    "    dice = 2*(precision*recall)/(precision + recall)\n",
    "            \n",
    "    print([combos[k],precision,recall,dice,iou])\n",
    "        \n",
    "    metrics.append([combos[k], cut_bottom, cut_top, precision,recall,dice,iou])"
   ]
  },
  {
   "cell_type": "code",
   "execution_count": 38,
   "id": "d085c26d",
   "metadata": {},
   "outputs": [
    {
     "name": "stdout",
     "output_type": "stream",
     "text": [
      "       view  cut_bottom  cut_top  precision    recall      dice       iou\n",
      "Onion1    x         480      288   0.818925  0.704160  0.757219  0.609293\n",
      "Onion1    y         480      288   0.712522  0.523746  0.603721  0.432378\n",
      "Onion1    z         480      288   0.838010  0.742750  0.787510  0.649498\n",
      "Onion1   xy         480      288   0.686064  0.847884  0.758438  0.610875\n",
      "Onion1   xz         480      288   0.726658  0.872903  0.793095  0.657132\n",
      "Onion1   yz         480      288   0.698868  0.849988  0.767056  0.622133\n",
      "Onion1  xyz         480      288   0.654004  0.892726  0.754943  0.606352\n"
     ]
    }
   ],
   "source": [
    "path = r'E:\\RootAI\\plantannotated\\predictions\\100\\3view\\outputMetricsDBSCAN_cut.xlsx'\n",
    "index = ['Onion1' for n in range(len(metrics))]\n",
    "df = pd.DataFrame(metrics,index = index,columns = ['view','cut_bottom','cut_top' ,'precision','recall','dice','iou'])\n",
    "print(df)\n",
    "\n",
    "with pd.ExcelWriter(path, mode = 'a', if_sheet_exists = 'new') as writer: \n",
    "    df.to_excel(writer)"
   ]
  },
  {
   "cell_type": "code",
   "execution_count": 24,
   "id": "17fa6221",
   "metadata": {},
   "outputs": [
    {
     "name": "stdout",
     "output_type": "stream",
     "text": [
      "[Open3D DEBUG] Precompute neighbors.\n",
      "[Open3D DEBUG] Done Precompute neighbors.\n",
      "[Open3D DEBUG] Compute Clusters\n",
      "[Open3D DEBUG] Done Compute Clusters: 471\n",
      "[0.6540037029778643, 0.8927263123683773, 0.7549427608463344, 0.6063518504253753]\n"
     ]
    }
   ],
   "source": [
    "result_pred = result_xyz\n",
    "    \n",
    "cut_top = 288\n",
    "cut_bottom = 480\n",
    "\n",
    "z_total = result_xyz.shape[2]\n",
    "\n",
    "gt_xyz_cut = gt_xyz[:,:,cut_bottom:z_total-cut_top]\n",
    "result_pred = result_pred[:,:,cut_bottom:z_total-cut_top]\n",
    "\n",
    "result_pred_pc = array2pc(result_pred)\n",
    "downpcd = result_pred_pc.voxel_down_sample(voxel_size=1.5)\n",
    "downpcd_np = pc2array(downpcd, result_pred)\n",
    "eps = findeps(downpcd_np)\n",
    "filtered = dbscan(downpcd, eps, 6, result_pred)\n",
    "filtered_restored = dilate_erode(filtered)\n",
    "\n",
    "iou = getIOU(gt_xyz_cut,filtered_restored)\n",
    "tn, tp, fn, fp = get_pr_re(gt_xyz_cut,filtered_restored)\n",
    "    \n",
    "precision = tp / (tp + fp)\n",
    "recall = tp / (tp + fn)\n",
    "accuracy = (tn + tp) / (tn + tp + fn + tp)\n",
    "dice = 2*(precision*recall)/(precision + recall)\n",
    "            \n",
    "print([precision,recall,dice,iou])"
   ]
  },
  {
   "cell_type": "code",
   "execution_count": 25,
   "id": "d9b94c63",
   "metadata": {},
   "outputs": [],
   "source": [
    "indeces = np.nonzero(filtered_restored)\n",
    "indeces = np.asarray(indeces)\n",
    "indeces = np.swapaxes(indeces, 0, 1)\n",
    "\n",
    "pcd = o3d.geometry.PointCloud()\n",
    "pcd.points = o3d.utility.Vector3dVector(indeces)\n",
    "pcd.paint_uniform_color([1, 0.706, 0])\n",
    "\n",
    "o3d.visualization.draw_geometries([pcd])"
   ]
  }
 ],
 "metadata": {
  "kernelspec": {
   "display_name": "Python 3 (ipykernel)",
   "language": "python",
   "name": "python3"
  },
  "language_info": {
   "codemirror_mode": {
    "name": "ipython",
    "version": 3
   },
   "file_extension": ".py",
   "mimetype": "text/x-python",
   "name": "python",
   "nbconvert_exporter": "python",
   "pygments_lexer": "ipython3",
   "version": "3.9.7"
  }
 },
 "nbformat": 4,
 "nbformat_minor": 5
}
